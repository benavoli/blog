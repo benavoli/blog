{
 "cells": [
  {
   "cell_type": "code",
   "execution_count": 5,
   "metadata": {
    "collapsed": false
   },
   "outputs": [],
   "source": [
    "\n",
    "# file = open(\"D:/pycharm/untitled1/Output.html\",'r').read()\n",
    "# soup = BeautifulSoup(file)\n",
    "import os\n",
    "import json\n",
    "import re\n",
    "import requests\n",
    "from bs4 import BeautifulSoup\n",
    "from urllib.parse import urlparse\n",
    "import pandas as pd\n",
    "\n",
    "import datetime as datetime   \n",
    "\n",
    "\n",
    "\n",
    "\n",
    "def parse_url(url,writer):\n",
    "    r = requests.get(url)\n",
    "    soup = BeautifulSoup(r.content, \"lxml\")\n",
    "    script = soup.body.text\n",
    "    script = script.replace(\"\\n\", \"\")\n",
    "    re_match = re.match('.*race\\.stateData = (.*);race\\.path', script)\n",
    "    str_json = re_match.group(1)\n",
    "    j = json.loads(str_json)\n",
    "    polls = j['polls']\n",
    "    date = []\n",
    "    pollster = []\n",
    "    grade = []\n",
    "    sample = []\n",
    "    weight = []\n",
    "    clinton = []\n",
    "    trump = []\n",
    "    johnson = []\n",
    "    leader = []\n",
    "\n",
    "    adjusted = []\n",
    "    for poll in polls:\n",
    "        d1=datetime.datetime.strptime(str(poll['endDate']), \"%Y-%m-%d\")\n",
    "        d2=datetime.datetime.today()\n",
    "        if (abs(d1-d2).days)<30:\n",
    "            date.append(str(poll['startDate']) + ' -> '+str( poll['endDate']))\n",
    "            pollster.append(poll['pollster'])\n",
    "            grade.append(poll['pollsterRating'])\n",
    "            sample.append( poll['sampleSize'])\n",
    "            weight.append(poll['weight']['polls'])\n",
    "\n",
    "            clinton_flag = False\n",
    "            trump_flag=False\n",
    "            johnson_flag=False\n",
    "            for poll_answer in poll['votingAnswers']:\n",
    "                pct=str(poll_answer['pct'])\n",
    "                if poll_answer['choice'] == 'Trump':\n",
    "                    trump.append(pct)\n",
    "                    trump_flag = True\n",
    "                elif poll_answer['choice'] == 'Clinton':\n",
    "                    clinton.append(pct)\n",
    "                    clinton_flag = True\n",
    "                else:\n",
    "                    johnson.append(pct)\n",
    "                    johnson_flag = True\n",
    "\n",
    "            if not johnson_flag:\n",
    "                johnson.append('')\n",
    "            if not clinton_flag:\n",
    "                clinton.append('')\n",
    "            if not trump_flag:\n",
    "                trump.append('')\n",
    "\n",
    "            leader.append('?')\n",
    "            adjusted.append('?')\n",
    "        \n",
    "\n",
    "    save_csv(writer,url, adjusted, clinton, date, grade, johnson, leader, pollster, sample, trump, weight)\n",
    "\n",
    "\n",
    "def save_csv(writer,url, adjusted, clinton, date, grade, johnson, leader, pollster, sample, trump, weight):\n",
    "    df = pd.DataFrame(date, columns=['date'])\n",
    "    df['pollster'] = pollster\n",
    "    df['grade'] = grade\n",
    "    df['Sample'] = sample\n",
    "    df['weight'] = weight\n",
    "    df['Clinton'] = clinton\n",
    "    df['Trump'] = trump\n",
    "    #df['johnson'] = johnson\n",
    "    df['leader'] = leader\n",
    "    df['adjusted'] = adjusted\n",
    "    s = urlparse(url)\n",
    "    filename = os.getcwd() + \"/\" + s.path.split('/')[-2] + '.csv'\n",
    "    #df.to_csv(filename)\n",
    "    df.to_excel(writer, s.path.split('/')[-2])\n",
    "\n",
    "\n",
    "\n",
    "    "
   ]
  },
  {
   "cell_type": "code",
   "execution_count": 6,
   "metadata": {
    "collapsed": false
   },
   "outputs": [],
   "source": [
    "url = 'http://projects.fivethirtyeight.com/2016-election-forecast/georgia/'\n",
    "rootparsed = urlparse(url)\n",
    "r = requests.get(url)\n",
    "soup = BeautifulSoup(r.content, \"lxml\")\n",
    "links_to_watch = soup.find(\"ul\", attrs={\"class\": \"nav-list all\"})\n",
    "links_to_watch.find_all('li')\n",
    "writer = pd.ExcelWriter('StatePoll'+str(datetime.date.today())+'.xlsx')\n",
    "for link in links_to_watch:\n",
    "    parse_url(rootparsed.scheme+\"://\" + rootparsed.netloc+ link.a['href'],writer)\n",
    "\n",
    "    \n",
    "writer.save()\n"
   ]
  },
  {
   "cell_type": "code",
   "execution_count": null,
   "metadata": {
    "collapsed": false
   },
   "outputs": [],
   "source": [
    "\n"
   ]
  },
  {
   "cell_type": "code",
   "execution_count": null,
   "metadata": {
    "collapsed": false
   },
   "outputs": [],
   "source": [
    "datetime.date.today()\n"
   ]
  },
  {
   "cell_type": "code",
   "execution_count": null,
   "metadata": {
    "collapsed": false
   },
   "outputs": [],
   "source": []
  },
  {
   "cell_type": "code",
   "execution_count": null,
   "metadata": {
    "collapsed": true
   },
   "outputs": [],
   "source": []
  }
 ],
 "metadata": {
  "kernelspec": {
   "display_name": "Python 3",
   "language": "python",
   "name": "python3"
  },
  "language_info": {
   "codemirror_mode": {
    "name": "ipython",
    "version": 3
   },
   "file_extension": ".py",
   "mimetype": "text/x-python",
   "name": "python",
   "nbconvert_exporter": "python",
   "pygments_lexer": "ipython3",
   "version": "3.5.2"
  }
 },
 "nbformat": 4,
 "nbformat_minor": 0
}
