{
 "cells": [
  {
   "cell_type": "code",
   "execution_count": 49,
   "metadata": {
    "collapsed": false
   },
   "outputs": [],
   "source": [
    "\n",
    "# file = open(\"D:/pycharm/untitled1/Output.html\",'r').read()\n",
    "# soup = BeautifulSoup(file)\n",
    "import os\n",
    "import json\n",
    "import re\n",
    "import requests\n",
    "from bs4 import BeautifulSoup\n",
    "from urllib.parse import urlparse\n",
    "import pandas as pd\n",
    "\n",
    "import datetime as datetime   \n",
    "\n",
    "\n",
    "\n",
    "\n",
    "def parse_url(url,writer):\n",
    "    r = requests.get(url)\n",
    "    soup = BeautifulSoup(r.content, \"lxml\")\n",
    "    script = soup.body.script.text\n",
    "    script = script.replace(\"\\n\", \"\")\n",
    "    re_match = re.match('.*race\\.stateData = (.*);race\\.path', script)\n",
    "    str_json = re_match.group(1)\n",
    "    j = json.loads(str_json)\n",
    "    polls = j['polls']\n",
    "    date = []\n",
    "    pollster = []\n",
    "    grade = []\n",
    "    sample = []\n",
    "    weight = []\n",
    "    clinton = []\n",
    "    trump = []\n",
    "    johnson = []\n",
    "    leader = []\n",
    "\n",
    "    adjusted = []\n",
    "    for poll in polls:\n",
    "        d1=datetime.datetime.strptime(str(poll['endDate']), \"%Y-%m-%d\")\n",
    "        d2=datetime.datetime.today()\n",
    "        if (abs(d1-d2).days)<30:\n",
    "            date.append(str(poll['startDate']) + ' -> '+str( poll['endDate']))\n",
    "            pollster.append(poll['pollster'])\n",
    "            grade.append(poll['pollsterRating'])\n",
    "            sample.append( poll['sampleSize'])\n",
    "            weight.append(poll['weight']['polls'])\n",
    "\n",
    "            clinton_flag = False\n",
    "            trump_flag=False\n",
    "            johnson_flag=False\n",
    "            for poll_answer in poll['votingAnswers']:\n",
    "                pct=str(poll_answer['pct'])\n",
    "                if poll_answer['choice'] == 'Trump':\n",
    "                    trump.append(pct)\n",
    "                    trump_flag = True\n",
    "                elif poll_answer['choice'] == 'Clinton':\n",
    "                    clinton.append(pct)\n",
    "                    clinton_flag = True\n",
    "                else:\n",
    "                    johnson.append(pct)\n",
    "                    johnson_flag = True\n",
    "\n",
    "            if not johnson_flag:\n",
    "                johnson.append('')\n",
    "            if not clinton_flag:\n",
    "                clinton.append('')\n",
    "            if not trump_flag:\n",
    "                trump.append('')\n",
    "\n",
    "            leader.append('?')\n",
    "            adjusted.append('?')\n",
    "        \n",
    "\n",
    "    save_csv(writer,url, adjusted, clinton, date, grade, johnson, leader, pollster, sample, trump, weight)\n",
    "\n",
    "\n",
    "def save_csv(writer,url, adjusted, clinton, date, grade, johnson, leader, pollster, sample, trump, weight):\n",
    "    df = pd.DataFrame(date, columns=['date'])\n",
    "    df['pollster'] = pollster\n",
    "    df['grade'] = grade\n",
    "    df['Sample'] = sample\n",
    "    df['weight'] = weight\n",
    "    df['Clinton'] = clinton\n",
    "    df['Trump'] = trump\n",
    "    df['johnson'] = johnson\n",
    "    df['leader'] = leader\n",
    "    df['adjusted'] = adjusted\n",
    "    s = urlparse(url)\n",
    "    filename = os.getcwd() + \"/\" + s.path.split('/')[-2] + '.csv'\n",
    "    #df.to_csv(filename)\n",
    "    df.to_excel(writer, s.path.split('/')[-2])\n",
    "\n",
    "\n",
    "\n",
    "    "
   ]
  },
  {
   "cell_type": "code",
   "execution_count": 46,
   "metadata": {
    "collapsed": false
   },
   "outputs": [
    {
     "ename": "AttributeError",
     "evalue": "'NoneType' object has no attribute 'group'",
     "output_type": "error",
     "traceback": [
      "\u001b[1;31m---------------------------------------------------------------------------\u001b[0m",
      "\u001b[1;31mAttributeError\u001b[0m                            Traceback (most recent call last)",
      "\u001b[1;32m<ipython-input-46-914ef19661c1>\u001b[0m in \u001b[0;36m<module>\u001b[1;34m()\u001b[0m\n\u001b[0;32m      7\u001b[0m \u001b[0mwriter\u001b[0m \u001b[1;33m=\u001b[0m \u001b[0mpd\u001b[0m\u001b[1;33m.\u001b[0m\u001b[0mExcelWriter\u001b[0m\u001b[1;33m(\u001b[0m\u001b[1;34m'StatePoll'\u001b[0m\u001b[1;33m+\u001b[0m\u001b[0mstr\u001b[0m\u001b[1;33m(\u001b[0m\u001b[0mdatetime\u001b[0m\u001b[1;33m.\u001b[0m\u001b[0mdate\u001b[0m\u001b[1;33m.\u001b[0m\u001b[0mtoday\u001b[0m\u001b[1;33m(\u001b[0m\u001b[1;33m)\u001b[0m\u001b[1;33m)\u001b[0m\u001b[1;33m+\u001b[0m\u001b[1;34m'.xlsx'\u001b[0m\u001b[1;33m)\u001b[0m\u001b[1;33m\u001b[0m\u001b[0m\n\u001b[0;32m      8\u001b[0m \u001b[1;32mfor\u001b[0m \u001b[0mlink\u001b[0m \u001b[1;32min\u001b[0m \u001b[0mlinks_to_watch\u001b[0m\u001b[1;33m:\u001b[0m\u001b[1;33m\u001b[0m\u001b[0m\n\u001b[1;32m----> 9\u001b[1;33m     \u001b[0mparse_url\u001b[0m\u001b[1;33m(\u001b[0m\u001b[0mrootparsed\u001b[0m\u001b[1;33m.\u001b[0m\u001b[0mscheme\u001b[0m\u001b[1;33m+\u001b[0m\u001b[1;34m\"://\"\u001b[0m \u001b[1;33m+\u001b[0m \u001b[0mrootparsed\u001b[0m\u001b[1;33m.\u001b[0m\u001b[0mnetloc\u001b[0m\u001b[1;33m+\u001b[0m \u001b[0mlink\u001b[0m\u001b[1;33m.\u001b[0m\u001b[0ma\u001b[0m\u001b[1;33m[\u001b[0m\u001b[1;34m'href'\u001b[0m\u001b[1;33m]\u001b[0m\u001b[1;33m,\u001b[0m\u001b[0mwriter\u001b[0m\u001b[1;33m)\u001b[0m\u001b[1;33m\u001b[0m\u001b[0m\n\u001b[0m\u001b[0;32m     10\u001b[0m \u001b[1;33m\u001b[0m\u001b[0m\n\u001b[0;32m     11\u001b[0m \u001b[1;33m\u001b[0m\u001b[0m\n",
      "\u001b[1;32m<ipython-input-45-bcbe8db44f3f>\u001b[0m in \u001b[0;36mparse_url\u001b[1;34m(url, writer)\u001b[0m\n\u001b[0;32m     21\u001b[0m     \u001b[0mscript\u001b[0m \u001b[1;33m=\u001b[0m \u001b[0mscript\u001b[0m\u001b[1;33m.\u001b[0m\u001b[0mreplace\u001b[0m\u001b[1;33m(\u001b[0m\u001b[1;34m\"\\n\"\u001b[0m\u001b[1;33m,\u001b[0m \u001b[1;34m\"\"\u001b[0m\u001b[1;33m)\u001b[0m\u001b[1;33m\u001b[0m\u001b[0m\n\u001b[0;32m     22\u001b[0m     \u001b[0mre_match\u001b[0m \u001b[1;33m=\u001b[0m \u001b[0mre\u001b[0m\u001b[1;33m.\u001b[0m\u001b[0mmatch\u001b[0m\u001b[1;33m(\u001b[0m\u001b[1;34m'.*race\\.stateData = (.*);race\\.path'\u001b[0m\u001b[1;33m,\u001b[0m \u001b[0mscript\u001b[0m\u001b[1;33m)\u001b[0m\u001b[1;33m\u001b[0m\u001b[0m\n\u001b[1;32m---> 23\u001b[1;33m     \u001b[0mstr_json\u001b[0m \u001b[1;33m=\u001b[0m \u001b[0mre_match\u001b[0m\u001b[1;33m.\u001b[0m\u001b[0mgroup\u001b[0m\u001b[1;33m(\u001b[0m\u001b[1;36m1\u001b[0m\u001b[1;33m)\u001b[0m\u001b[1;33m\u001b[0m\u001b[0m\n\u001b[0m\u001b[0;32m     24\u001b[0m     \u001b[0mj\u001b[0m \u001b[1;33m=\u001b[0m \u001b[0mjson\u001b[0m\u001b[1;33m.\u001b[0m\u001b[0mloads\u001b[0m\u001b[1;33m(\u001b[0m\u001b[0mstr_json\u001b[0m\u001b[1;33m)\u001b[0m\u001b[1;33m\u001b[0m\u001b[0m\n\u001b[0;32m     25\u001b[0m     \u001b[0mpolls\u001b[0m \u001b[1;33m=\u001b[0m \u001b[0mj\u001b[0m\u001b[1;33m[\u001b[0m\u001b[1;34m'polls'\u001b[0m\u001b[1;33m]\u001b[0m\u001b[1;33m\u001b[0m\u001b[0m\n",
      "\u001b[1;31mAttributeError\u001b[0m: 'NoneType' object has no attribute 'group'"
     ]
    }
   ],
   "source": [
    "url = 'http://projects.fivethirtyeight.com/2016-election-forecast/georgia/'\n",
    "rootparsed = urlparse(url)\n",
    "r = requests.get(url)\n",
    "soup = BeautifulSoup(r.content, \"lxml\")\n",
    "links_to_watch = soup.find(\"ul\", attrs={\"class\": \"nav-list all\"})\n",
    "links_to_watch.find_all('li')\n",
    "writer = pd.ExcelWriter('StatePoll'+str(datetime.date.today())+'.xlsx')\n",
    "for link in links_to_watch:\n",
    "    parse_url(rootparsed.scheme+\"://\" + rootparsed.netloc+ link.a['href'],writer)\n",
    "\n",
    "    \n",
    "writer.save()\n"
   ]
  },
  {
   "cell_type": "code",
   "execution_count": 50,
   "metadata": {
    "collapsed": false
   },
   "outputs": [
    {
     "ename": "AttributeError",
     "evalue": "'NoneType' object has no attribute 'group'",
     "output_type": "error",
     "traceback": [
      "\u001b[1;31m---------------------------------------------------------------------------\u001b[0m",
      "\u001b[1;31mAttributeError\u001b[0m                            Traceback (most recent call last)",
      "\u001b[1;32m<ipython-input-50-47590dce1657>\u001b[0m in \u001b[0;36m<module>\u001b[1;34m()\u001b[0m\n\u001b[1;32m----> 1\u001b[1;33m \u001b[0mparse_url\u001b[0m\u001b[1;33m(\u001b[0m\u001b[1;34m\"http://projects.fivethirtyeight.com/2016-election-forecast/ohio/\"\u001b[0m\u001b[1;33m,\u001b[0m\u001b[0mwriter\u001b[0m\u001b[1;33m)\u001b[0m\u001b[1;33m\u001b[0m\u001b[0m\n\u001b[0m",
      "\u001b[1;32m<ipython-input-49-c71175931d9b>\u001b[0m in \u001b[0;36mparse_url\u001b[1;34m(url, writer)\u001b[0m\n\u001b[0;32m     21\u001b[0m     \u001b[0mscript\u001b[0m \u001b[1;33m=\u001b[0m \u001b[0mscript\u001b[0m\u001b[1;33m.\u001b[0m\u001b[0mreplace\u001b[0m\u001b[1;33m(\u001b[0m\u001b[1;34m\"\\n\"\u001b[0m\u001b[1;33m,\u001b[0m \u001b[1;34m\"\"\u001b[0m\u001b[1;33m)\u001b[0m\u001b[1;33m\u001b[0m\u001b[0m\n\u001b[0;32m     22\u001b[0m     \u001b[0mre_match\u001b[0m \u001b[1;33m=\u001b[0m \u001b[0mre\u001b[0m\u001b[1;33m.\u001b[0m\u001b[0mmatch\u001b[0m\u001b[1;33m(\u001b[0m\u001b[1;34m'.*race\\.stateData = (.*);race\\.path'\u001b[0m\u001b[1;33m,\u001b[0m \u001b[0mscript\u001b[0m\u001b[1;33m)\u001b[0m\u001b[1;33m\u001b[0m\u001b[0m\n\u001b[1;32m---> 23\u001b[1;33m     \u001b[0mstr_json\u001b[0m \u001b[1;33m=\u001b[0m \u001b[0mre_match\u001b[0m\u001b[1;33m.\u001b[0m\u001b[0mgroup\u001b[0m\u001b[1;33m(\u001b[0m\u001b[1;36m0\u001b[0m\u001b[1;33m)\u001b[0m\u001b[1;33m\u001b[0m\u001b[0m\n\u001b[0m\u001b[0;32m     24\u001b[0m     \u001b[0mj\u001b[0m \u001b[1;33m=\u001b[0m \u001b[0mjson\u001b[0m\u001b[1;33m.\u001b[0m\u001b[0mloads\u001b[0m\u001b[1;33m(\u001b[0m\u001b[0mstr_json\u001b[0m\u001b[1;33m)\u001b[0m\u001b[1;33m\u001b[0m\u001b[0m\n\u001b[0;32m     25\u001b[0m     \u001b[0mpolls\u001b[0m \u001b[1;33m=\u001b[0m \u001b[0mj\u001b[0m\u001b[1;33m[\u001b[0m\u001b[1;34m'polls'\u001b[0m\u001b[1;33m]\u001b[0m\u001b[1;33m\u001b[0m\u001b[0m\n",
      "\u001b[1;31mAttributeError\u001b[0m: 'NoneType' object has no attribute 'group'"
     ]
    }
   ],
   "source": [
    "parse_url(\"http://projects.fivethirtyeight.com/2016-election-forecast/ohio/\",writer)\n"
   ]
  },
  {
   "cell_type": "code",
   "execution_count": null,
   "metadata": {
    "collapsed": false
   },
   "outputs": [],
   "source": [
    "datetime.date.today()\n"
   ]
  },
  {
   "cell_type": "code",
   "execution_count": null,
   "metadata": {
    "collapsed": false
   },
   "outputs": [],
   "source": []
  },
  {
   "cell_type": "code",
   "execution_count": null,
   "metadata": {
    "collapsed": true
   },
   "outputs": [],
   "source": []
  }
 ],
 "metadata": {
  "kernelspec": {
   "display_name": "Python 3",
   "language": "python",
   "name": "python3"
  },
  "language_info": {
   "codemirror_mode": {
    "name": "ipython",
    "version": 3
   },
   "file_extension": ".py",
   "mimetype": "text/x-python",
   "name": "python",
   "nbconvert_exporter": "python",
   "pygments_lexer": "ipython3",
   "version": "3.5.2"
  }
 },
 "nbformat": 4,
 "nbformat_minor": 0
}
