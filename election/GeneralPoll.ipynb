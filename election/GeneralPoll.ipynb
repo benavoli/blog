{
 "cells": [
  {
   "cell_type": "markdown",
   "metadata": {},
   "source": [
    "We continue our adventure in the Bayesian USA 2016 election forecast through near-ignorance priors.\n",
    "\n",
    "I will today show how to compute the lower and upepr probabilities for Clinton of winning the general election 2016.\n",
    "First, we load the lower and upper probabilities for Clinton of winning in every single State (see http://idpstat.blogspot.ch/2016/08/bayesian-winning-lower-and-upper.html) as well as the Electoral Vore for each state\n"
   ]
  },
  {
   "cell_type": "code",
   "execution_count": 12,
   "metadata": {
    "collapsed": true
   },
   "outputs": [],
   "source": [
    "import pandas as pd\n",
    "lowerupper     = pd.read_csv('LowerUpper.csv')\n",
    "electoralvotes = pd.read_csv('electoralvotes.csv')"
   ]
  },
  {
   "cell_type": "code",
   "execution_count": 13,
   "metadata": {
    "collapsed": false
   },
   "outputs": [],
   "source": [
    "#lowerupper"
   ]
  },
  {
   "cell_type": "code",
   "execution_count": 14,
   "metadata": {
    "collapsed": false
   },
   "outputs": [],
   "source": [
    "#electoralvotes"
   ]
  },
  {
   "cell_type": "markdown",
   "metadata": {},
   "source": [
    "We compute two histograms: one relative to the lower probability and the other relative to the upper probability.\n",
    "To obtain the histogram of the lower: for each State, we generate a random number r in [0,1] and we assign the electoral vote of the State to Clinton if $r \\leq LowerProbability$ in the State or to Trump otherwise.\n",
    "(same for the upper).  We also compute the lower and upper probability that the total electoral votes for Clinton exceeds the break-even line (that is equal to 269)"
   ]
  },
  {
   "cell_type": "code",
   "execution_count": 15,
   "metadata": {
    "collapsed": false
   },
   "outputs": [
    {
     "name": "stdout",
     "output_type": "stream",
     "text": [
      "[1.0,1.0]\n"
     ]
    }
   ],
   "source": [
    "import numpy as np\n",
    "#break-even line\n",
    "evenline=269\n",
    "#monte Carlo samples\n",
    "Np=10000\n",
    "\n",
    "lowvotes=0\n",
    "upvotes=0\n",
    "LowElec=np.zeros(Np)\n",
    "UpElec=np.zeros(Np)\n",
    "for i in range(0,Np):\n",
    "    lowElec=0\n",
    "    upElec=0\n",
    "    for s in range(0,51):\n",
    "        if np.random.rand(1)<lowerupper['LowerProbability'][s]:\n",
    "            lowElec=lowElec+electoralvotes['Vote'][s]\n",
    "        if np.random.rand(1)<lowerupper['UpperProbability'][s]:\n",
    "            upElec=upElec+electoralvotes['Vote'][s]\n",
    "    LowElec[i]=lowElec\n",
    "    UpElec[i]=upElec\n",
    "    if lowElec>evenline:\n",
    "        lowvotes=lowvotes+1\n",
    "    if upElec>evenline:\n",
    "        upvotes=upvotes+1\n",
    "    \n",
    "upvotes=upvotes/Np\n",
    "lowvotes=lowvotes/Np\n",
    "print('['+str(lowvotes) +',' +str(upvotes)+']')"
   ]
  },
  {
   "cell_type": "code",
   "execution_count": 17,
   "metadata": {
    "collapsed": false
   },
   "outputs": [
    {
     "data": {
      "image/png": "[encoded data removed]",
      "text/plain": [
       "<matplotlib.figure.Figure at 0x7f54525ec358>"
      ]
     },
     "metadata": {},
     "output_type": "display_data"
    }
   ],
   "source": [
    "import warnings\n",
    "import datetime as datetime\n",
    "warnings.filterwarnings('ignore')\n",
    "%matplotlib inline\n",
    "\n",
    "import seaborn as sns\n",
    "import matplotlib.pyplot as plt\n",
    "\n",
    "sns.distplot(LowElec, axlabel=\"Electoral Votes (even-line in green)\", \n",
    "                 kde=True, hist=True,color='darkred',label=str(lowvotes)) \n",
    "go=sns.distplot(UpElec, \n",
    "                 kde=True, hist=True,color='darkblue',label=str(upvotes)) \n",
    "\n",
    "go.set_title('Worst-case (red) and Best-case (blue) distribution for Clinton')\n",
    "go.legend()\n",
    "plt.axvline(x=270.,color='g')\n",
    "#plt.xlim(200,450)\n",
    "plt.savefig('General' + str(datetime.date.today())+'.png')"
   ]
  },
  {
   "cell_type": "code",
   "execution_count": null,
   "metadata": {
    "collapsed": true
   },
   "outputs": [],
   "source": []
  }
 ],
 "metadata": {
  "kernelspec": {
   "display_name": "Python 3",
   "language": "python",
   "name": "python3"
  },
  "language_info": {
   "codemirror_mode": {
    "name": "ipython",
    "version": 3
   },
   "file_extension": ".py",
   "mimetype": "text/x-python",
   "name": "python",
   "nbconvert_exporter": "python",
   "pygments_lexer": "ipython3",
   "version": "3.5.2"
  }
 },
 "nbformat": 4,
 "nbformat_minor": 0
}
