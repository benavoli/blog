{
 "cells": [
  {
   "cell_type": "markdown",
   "metadata": {},
   "source": [
    "I will show how to apply the models described in http://idpstat.blogspot.ch/2016/08/a-description-of-bayesian-near_3.html to predict USA2016 election results in Nevada. The polls data are from  www.realclearpolitics.com, in particular KTNV/Rasmussen poll (see below). In a future post, I will discuss how to take into account of the three polls. We start by importing the data."
   ]
  },
  {
   "cell_type": "code",
   "execution_count": 4,
   "metadata": {
    "collapsed": false
   },
   "outputs": [
    {
     "data": {
      "text/html": [
       "<div>\n",
       "<table border=\"1\" class=\"dataframe\">\n",
       "  <thead>\n",
       "    <tr style=\"text-align: right;\">\n",
       "      <th></th>\n",
       "      <th>Poll</th>\n",
       "      <th>Date</th>\n",
       "      <th>Sample</th>\n",
       "      <th>MoE</th>\n",
       "      <th>Clinton (D)</th>\n",
       "      <th>Trump (R)</th>\n",
       "      <th>Johnson (L)</th>\n",
       "      <th>Spread</th>\n",
       "    </tr>\n",
       "  </thead>\n",
       "  <tbody>\n",
       "    <tr>\n",
       "      <th>0</th>\n",
       "      <td>RCP Average</td>\n",
       "      <td>7/7 - 8/5</td>\n",
       "      <td>--</td>\n",
       "      <td>--</td>\n",
       "      <td>43</td>\n",
       "      <td>40.7</td>\n",
       "      <td>6.3</td>\n",
       "      <td>Clinton +2.3</td>\n",
       "    </tr>\n",
       "    <tr>\n",
       "      <th>1</th>\n",
       "      <td>CBS News/YouGov*</td>\n",
       "      <td>8/2 - 8/5</td>\n",
       "      <td>993 LV</td>\n",
       "      <td>4.6</td>\n",
       "      <td>43</td>\n",
       "      <td>41.0</td>\n",
       "      <td>4.0</td>\n",
       "      <td>Clinton +2</td>\n",
       "    </tr>\n",
       "    <tr>\n",
       "      <th>2</th>\n",
       "      <td>KTNV/Rasmussen</td>\n",
       "      <td>7/29 - 7/31</td>\n",
       "      <td>750 LV</td>\n",
       "      <td>4.0</td>\n",
       "      <td>41</td>\n",
       "      <td>40.0</td>\n",
       "      <td>10.0</td>\n",
       "      <td>Clinton +1</td>\n",
       "    </tr>\n",
       "    <tr>\n",
       "      <th>3</th>\n",
       "      <td>Monmouth</td>\n",
       "      <td>7/7 - 7/10</td>\n",
       "      <td>408 LV</td>\n",
       "      <td>4.9</td>\n",
       "      <td>45</td>\n",
       "      <td>41.0</td>\n",
       "      <td>5.0</td>\n",
       "      <td>Clinton +4</td>\n",
       "    </tr>\n",
       "  </tbody>\n",
       "</table>\n",
       "</div>"
      ],
      "text/plain": [
       "               Poll         Date  Sample  MoE  Clinton (D)  Trump (R)   \\\n",
       "0       RCP Average    7/7 - 8/5      --   --           43        40.7   \n",
       "1  CBS News/YouGov*    8/2 - 8/5  993 LV  4.6           43        41.0   \n",
       "2   KTNV/Rasmussen   7/29 - 7/31  750 LV  4.0           41        40.0   \n",
       "3          Monmouth   7/7 - 7/10  408 LV  4.9           45        41.0   \n",
       "\n",
       "   Johnson (L)        Spread  \n",
       "0          6.3  Clinton +2.3  \n",
       "1          4.0    Clinton +2  \n",
       "2         10.0    Clinton +1  \n",
       "3          5.0    Clinton +4  "
      ]
     },
     "execution_count": 4,
     "metadata": {},
     "output_type": "execute_result"
    }
   ],
   "source": [
    "import pandas as pd\n",
    "data_df = pd.read_table('nevada.csv')\n",
    "data_df"
   ]
  },
  {
   "cell_type": "code",
   "execution_count": 245,
   "metadata": {
    "collapsed": false
   },
   "outputs": [],
   "source": [
    "#KTNV/Rasmussen poll\n",
    "\n",
    "N=750 #sample size\n",
    "pt=0.40 # percentage votes for Trump\n",
    "pc=0.41 # percentage votes for Clinton\n",
    "pu=1-pt-pc  # percentage votes Other (Johnson)\n",
    "\n",
    "#compute the number of votes\n",
    "nt=pt*N\n",
    "nc=pc*N\n",
    "nu=pu*N"
   ]
  },
  {
   "cell_type": "markdown",
   "metadata": {},
   "source": [
    "We now define the function we aim to compute in the Bayesian inference. We call the function $g$: it returns the difference between the chance of Trump $\\theta_1$ and those of Clinton $\\theta_2$"
   ]
  },
  {
   "cell_type": "code",
   "execution_count": 254,
   "metadata": {
    "collapsed": true
   },
   "outputs": [],
   "source": [
    "#define the function of interest for Bayesian inference\n",
    "def g(theta):\n",
    "    #x is a numpy vector\n",
    "    return (theta[:,0]-theta[:,1])"
   ]
  },
  {
   "cell_type": "markdown",
   "metadata": {},
   "source": [
    "We now write the function to compute the posterior samples of the posterior Dirichlet distribution"
   ]
  },
  {
   "cell_type": "code",
   "execution_count": 251,
   "metadata": {
    "collapsed": true
   },
   "outputs": [],
   "source": [
    "#function that computes the posterior sampels\n",
    "def compute_posterior_samples(ap,Np):\n",
    "    #ap: posterior Dirichlet distribution vector parameters\n",
    "    #Np: number of MC samples\n",
    "    return np.random.dirichlet(ap,Np) #we use numpy"
   ]
  },
  {
   "cell_type": "markdown",
   "metadata": {},
   "source": [
    "We can now compute the posterior expectation of interest. We use a uniform prior."
   ]
  },
  {
   "cell_type": "code",
   "execution_count": 256,
   "metadata": {
    "collapsed": false
   },
   "outputs": [
    {
     "name": "stdout",
     "output_type": "stream",
     "text": [
      "Posterior probability of Trump winning is 0.38011\n"
     ]
    },
    {
     "data": {
      "image/png": "[encoded data removed]",
      "text/plain": [
       "<matplotlib.figure.Figure at 0x7fb608335128>"
      ]
     },
     "metadata": {},
     "output_type": "display_data"
    }
   ],
   "source": [
    "import warnings\n",
    "warnings.filterwarnings('ignore')\n",
    "\n",
    "%matplotlib inline\n",
    "import numpy as np\n",
    "import seaborn as sns\n",
    "\n",
    "#data from the poll\n",
    "datapoll=np.array([nt,nc,nu])\n",
    "#uniform prior \n",
    "a=np.array([1,1,1])\n",
    "#number of MC samples\n",
    "Np=100000\n",
    "postsamples = compute_posterior_samples(datapoll+a,Np)\n",
    "\n",
    "# Set up the matplotlib figure\n",
    "sns.distplot(g(postsamples), axlabel=\"Trump-Clinton\", \n",
    "             kde=True, hist=True) #, hist_kws={\"range\": [-1,1]}\n",
    "prob=sum(g(postsamples)>0)/Np\n",
    "print('Posterior probability of Trump winning is', prob)"
   ]
  },
  {
   "cell_type": "markdown",
   "metadata": {},
   "source": [
    "The posterior probability in favor of Trump is the area of the curve from 0 to 1, while the one in favor of Clinton is the are from -1 to 0. This is a standard Bayesian analysis using a uniform prior. We have already explained that this type of prior is not noninformative. We now use a better model: a **near-ignorance model** (http://idpstat.blogspot.ch/2016/08/a-description-of-bayesian-near_3.html)."
   ]
  },
  {
   "cell_type": "code",
   "execution_count": 264,
   "metadata": {
    "collapsed": false
   },
   "outputs": [
    {
     "name": "stdout",
     "output_type": "stream",
     "text": [
      "Posterior probability of Trump winning is in [ 0.31903 0.44139 ]\n"
     ]
    },
    {
     "data": {
      "image/png": "[encoded data removed]",
      "text/plain": [
       "<matplotlib.figure.Figure at 0x7fb6080d1048>"
      ]
     },
     "metadata": {},
     "output_type": "display_data"
    }
   ],
   "source": [
    "import matplotlib.pyplot as plt\n",
    "fig, ax = plt.subplots()\n",
    "#pseudo-votes\n",
    "c=2\n",
    "#prior for a swing scenario in favor of Clinton\n",
    "al=np.array([-c,c,0])\n",
    "#prior for a swing scenario in favor of Trump\n",
    "au=np.array([c,-c,0])\n",
    "\n",
    "postsampleslower = compute_posterior_samples(datapoll+al,Np)\n",
    "postsamplesupper = compute_posterior_samples(datapoll+au,Np)\n",
    "\n",
    "# Set up the matplotlib figure\n",
    "sns.distplot(g(postsampleslower), axlabel=\"Trump-Clinton\", \n",
    "             kde=True, hist=True) #, hist_kws={\"range\": [-1,1]}\n",
    "sns.distplot(g(postsamplesupper), \n",
    "             kde=True, hist=True,color='darkred') #, hist_kws={\"range\": [-1,1]}\n",
    "plt.savefig('nevada.png')\n",
    "\n",
    "problower=sum(g(postsampleslower)>0)/Np\n",
    "probupper=sum(g(postsamplesupper)>0)/Np\n",
    "print('Posterior probability of Trump winning is in [',problower,probupper,']')\n"
   ]
  },
  {
   "cell_type": "markdown",
   "metadata": {},
   "source": [
    "We can see that a change of only two votes from Clinton to Trump (or vice versa) changes the probability of **12 points**. This means that the prior has a significative effect on the posterior. A near-ignorance model automatically provides a sensitivity analysis of the inferences to the prior strength. This explains why we should always use near-ignorance models. In the next post, we will discuss how to combine polls from different States and return the overall winning probability. Then it will be even more evident the importance of using a near-ignorance models."
   ]
  },
  {
   "cell_type": "code",
   "execution_count": null,
   "metadata": {
    "collapsed": true
   },
   "outputs": [],
   "source": []
  }
 ],
 "metadata": {
  "kernelspec": {
   "display_name": "Python 3",
   "language": "python",
   "name": "python3"
  },
  "language_info": {
   "codemirror_mode": {
    "name": "ipython",
    "version": 3
   },
   "file_extension": ".py",
   "mimetype": "text/x-python",
   "name": "python",
   "nbconvert_exporter": "python",
   "pygments_lexer": "ipython3",
   "version": "3.5.1"
  }
 },
 "nbformat": 4,
 "nbformat_minor": 0
}
