{
 "cells": [
  {
   "cell_type": "markdown",
   "metadata": {},
   "source": [
    "This post is about how to perform a Bayesian analysis of election polls for USA 2016 presidential election.\n",
    "In previous posts, I have discussed how to make a poll for a single State (Nevada as example). Here we will use some simple Python functions to compue the probability for Clinton of winning in all 51 States (State-by-State).\n",
    "I will make use of near-prior ignorance models that were introduced in a past post.\n",
    "\n",
    "As first step, we load the data from an Excel file that includes 51 sheet (one per state) with the election poll data"
   ]
  },
  {
   "cell_type": "code",
   "execution_count": 24,
   "metadata": {
    "collapsed": false
   },
   "outputs": [],
   "source": [
    "import pandas as pd\n",
    "import os\n",
    "xl_file = pd.ExcelFile('StatePoll_august28.xlsx')\n",
    "df = {sheet_name: xl_file.parse(sheet_name) \n",
    "          for sheet_name in xl_file.sheet_names}\n"
   ]
  },
  {
   "cell_type": "markdown",
   "metadata": {
    "collapsed": false
   },
   "source": [
    "The following function implements the **Covariance Intersection** discussed in the post http://idpstat.blogspot.ch/2016/08/combining-polls-data-from-different.html"
   ]
  },
  {
   "cell_type": "code",
   "execution_count": 25,
   "metadata": {
    "collapsed": true
   },
   "outputs": [],
   "source": [
    "def covariance_intersection(sample,A,B):\n",
    "    #A is the first candidate\n",
    "    #B is the second candidate\n",
    "    #sample is the samplesize\n",
    "    Af=0\n",
    "    Bf=0\n",
    "    Samplef=0\n",
    "    for i in range(0,len(A)):\n",
    "        Af=Af+A[i]*sample[i]/len(A)\n",
    "        Bf=Bf+B[i]*sample[i]/len(A)\n",
    "        Samplef=Samplef+sample[i]/len(A)\n",
    "    Af=Af/Samplef\n",
    "    Bf=Bf/Samplef    \n",
    "    return list((Samplef,Af,Bf))"
   ]
  },
  {
   "cell_type": "markdown",
   "metadata": {
    "collapsed": false
   },
   "source": [
    "We implement the Bayesian election forecast using the multinomial-Dirichlet model with near-ignorance priors discussed in http://idpstat.blogspot.ch/2016/08/blog-post_9.html for Nevada. Here the procedure is applied to all States. The following loop computes the poll state-by-state and save the resulting posterior lwoer and upper distirbutions in png files\n",
    "\n"
   ]
  },
  {
   "cell_type": "code",
   "execution_count": null,
   "metadata": {
    "collapsed": false
   },
   "outputs": [],
   "source": [
    "#define the function of interest for Bayesian inference\n",
    "def g(theta):\n",
    "    #x is a numpy vector\n",
    "    return (theta[:,0]-theta[:,1])\n",
    "\n",
    "#function that computes the posterior sampels\n",
    "def compute_posterior_samples(ap,Np):\n",
    "    #ap: posterior Dirichlet distribution vector parameters\n",
    "    #Np: number of MC samples\n",
    "    return np.random.dirichlet(ap,Np) #we use numpy\n",
    "\n",
    "import warnings\n",
    "warnings.filterwarnings('ignore')\n",
    "from IPython.display import Image\n",
    "%matplotlib inline\n",
    "import numpy as np\n",
    "import seaborn as sns\n",
    "import matplotlib.pyplot as plt\n",
    "\n",
    "#number of MC samples\n",
    "Np=10000\n",
    "#pseudo-votes for Near-Ignorance Priors\n",
    "c=2\n",
    "\n",
    "df_res = pd.DataFrame(index=np.arange(0, 51),columns=('LowerProbability', 'UpperProbability'))\n",
    "Statesind=0\n",
    "for key, value in sorted(df.items()):\n",
    "    Statesind=Statesind+1\n",
    "    #compute the list of fused polls\n",
    "    fus=covariance_intersection(df[key]['SAMPLE'].values,df[key]['Clinton'].values,df[key]['Trump'].values)\n",
    "    #print(df['alaska']['Sample'].values)\n",
    "    #print(df['alaska']['Clinton'].values)\n",
    "    #print(df['alaska']['Trump'].values)\n",
    "    #print(fus)\n",
    "    #break\n",
    "    #data from the poll\n",
    "    datapoll=np.array([fus[0]*fus[1],fus[0]*fus[2],fus[0]*(1-fus[1]-fus[2])])\n",
    "    #prior for a swing scenario in favor of Clinton\n",
    "    au=np.array([c,-c,0])\n",
    "    #prior for a swing scenario in favor of Trump\n",
    "    al=np.array([-c,c,0])\n",
    "\n",
    "    #compute the lower and upepr distirbutions for the two swing scenarios\n",
    "    postsampleslower = compute_posterior_samples(datapoll+al,Np)\n",
    "    postsamplesupper = compute_posterior_samples(datapoll+au,Np)\n",
    "    #Compute the lower and upepr probabilities\n",
    "    problower=sum(g(postsampleslower)>0)/Np\n",
    "    probupper=sum(g(postsamplesupper)>0)/Np\n",
    "    df_res.loc[Statesind-1] =[problower,probupper]\n",
    "    \n",
    "    # Plot the figs and save to temp files\n",
    "    sns.distplot(g(postsampleslower), axlabel=\"Clinton-Trump\", \n",
    "                 kde=True, hist=True,color='darkred') #, hist_kws={\"range\": [-1,1]}\n",
    "    go=sns.distplot(g(postsamplesupper), \n",
    "                 kde=True, hist=True,color='darkblue') #, hist_kws={\"range\": [-1,1\n",
    "    \n",
    "    go.set_title(key+'    ['+str(problower)+','+str(probupper)+']')\n",
    "    plt.axvline(x=0.,color='g')\n",
    "    namefile='./plots/f'+str(Statesind)+'.png'\n",
    "    plt.savefig(namefile); \n",
    "    plt.close();\n",
    "    \n",
    "df_res.to_csv('LowerUpper.csv')\n"
   ]
  },
  {
   "cell_type": "code",
   "execution_count": null,
   "metadata": {
    "collapsed": true
   },
   "outputs": [],
   "source": []
  },
  {
   "cell_type": "code",
   "execution_count": null,
   "metadata": {
    "collapsed": false
   },
   "outputs": [],
   "source": [
    "# Combine them with imshows\n",
    "fig, ax = plt.subplots(11,5, figsize=(30,50))\n",
    "count=0\n",
    "for i1 in range(0,11):\n",
    "    for i2 in range(0,5):\n",
    "        count=count+1\n",
    "        if count>51:\n",
    "            ax[i1,i2].set_visible(False)\n",
    "        else:\n",
    "            ax[i1,i2].imshow(plt.imread('./plots/f%s.png' %count), aspect='auto'); ax[i1,i2].axis('off')\n",
    "            plt.tight_layout()\n",
    "            \n",
    "plt.savefig('AllStates')\n",
    "plt.show()\n"
   ]
  },
  {
   "cell_type": "markdown",
   "metadata": {},
   "source": [
    "The green line represents the \"even-line\". We have therefore three different situaions:\n",
    "1. both lower and upper distributions are (almost all) to the right of the green line (these are the States that are clearly for Clinton);\n",
    "2. both lower and upper distributions are (almost all) to the left of the green line (these are the States that are clearly for Trump);\n",
    "3. States where the lower and upper distributions are across the line.\n",
    "\n",
    "For instance, States that are clearly for Clinton are California, Connecticut, Delaware, etc. while States that are for Trump are Alabama, Alaska, Arizona etc.. The values of the lower and upepr probability of winning the State for Clinton are reported in the top of the plots. \n",
    "One of advantages of near-prior ignorance model is that they allow us to automatically detect the States that are more uncertain, i.e., States where a small change  of the vote intention can dramatically change the final result.\n",
    "Let us consider for instance the undecided State 'North-Carolina' (it is undecided because the lower and upper probabilitie are 0.52 and 0.66). It can be observed that a change of the vote of only 2 people from Clinton to Trump (that is 0.4% of the poll sample size) reduces Clinton's  probability of winning  to 0.52. \n",
    "\n",
    "The other **undecided States** are\n",
    "* Iowa [0.50,0.64]\n",
    "* Missouri [0.38, 0.56]\n",
    "* Nevada [0.58, 0.74]\n",
    "* North-Carolina [0.52,0.66]\n",
    "\n",
    "We are almost ready to compute the general election result, in the next post."
   ]
  },
  {
   "cell_type": "code",
   "execution_count": null,
   "metadata": {
    "collapsed": false
   },
   "outputs": [],
   "source": [
    "\n"
   ]
  },
  {
   "cell_type": "code",
   "execution_count": null,
   "metadata": {
    "collapsed": true
   },
   "outputs": [],
   "source": []
  }
 ],
 "metadata": {
  "kernelspec": {
   "display_name": "Python 3",
   "language": "python",
   "name": "python3"
  },
  "language_info": {
   "codemirror_mode": {
    "name": "ipython",
    "version": 3
   },
   "file_extension": ".py",
   "mimetype": "text/x-python",
   "name": "python",
   "nbconvert_exporter": "python",
   "pygments_lexer": "ipython3",
   "version": "3.5.2"
  }
 },
 "nbformat": 4,
 "nbformat_minor": 0
}
